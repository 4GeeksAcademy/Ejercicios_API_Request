{
 "cells": [
  {
   "cell_type": "markdown",
   "metadata": {},
   "source": [
    "# Explore here"
   ]
  },
  {
   "cell_type": "code",
   "execution_count": 41,
   "metadata": {},
   "outputs": [
    {
     "name": "stdout",
     "output_type": "stream",
     "text": [
      "Track name    : places to be\n",
      "Duration      : 3 min 44 sec\n",
      "Popularity   : 69\n",
      "Track name    : leavemealone\n",
      "Duration      : 3 min 42 sec\n",
      "Popularity   : 71\n",
      "Track name    : Marea (we’ve lost dancing)\n",
      "Duration      : 4 min 45 sec\n",
      "Popularity   : 73\n",
      "Track name    : adore u\n",
      "Duration      : 3 min 40 sec\n",
      "Popularity   : 68\n",
      "Track name    : Delilah (pull me out of this)\n",
      "Duration      : 4 min 10 sec\n",
      "Popularity   : 72\n",
      "Track name    : ten\n",
      "Duration      : 3 min 1 sec\n",
      "Popularity   : 67\n",
      "Track name    : Turn On The Lights again.. (feat. Future)\n",
      "Duration      : 4 min 27 sec\n",
      "Popularity   : 67\n",
      "Track name    : Jungle\n",
      "Duration      : 3 min 18 sec\n",
      "Popularity   : 67\n",
      "Track name    : Rumble\n",
      "Duration      : 2 min 26 sec\n",
      "Popularity   : 65\n",
      "Track name    : just stand there\n",
      "Duration      : 4 min 20 sec\n",
      "Popularity   : 67\n"
     ]
    }
   ],
   "source": [
    "import os\n",
    "import pandas as pd\n",
    "from dotenv import load_dotenv\n",
    "\n",
    "\n",
    "# load the .env file variables\n",
    "load_dotenv()\n",
    "\n",
    "client_id = os.environ.get(\"Client_ID\")\n",
    "client_secret = os.environ.get(\"Client_Secret\")\n",
    "\n",
    "\n",
    "import spotipy\n",
    "from spotipy.oauth2 import SpotifyClientCredentials\n",
    "\n",
    "Fred_uri = 'spotify:artist:4oLeXFyACqeem2VImYeBFe'\n",
    "\n",
    "spotify = spotipy.Spotify(auth_manager = SpotifyClientCredentials(client_id = client_id,client_secret = client_secret))\n",
    "results = spotify.artist_top_tracks(Fred_uri)\n",
    "\n",
    "for track in results['tracks'][:10]:\n",
    "    print('Track name    : ' + track['name'])\n",
    "    duration_minutes = track['duration_ms'] // 60000  # Minutos\n",
    "    duration_seconds = (track['duration_ms'] % 60000) // 1000  # Segundos restantes\n",
    "    print(f'Duration      : {duration_minutes} min {duration_seconds} sec')\n",
    "    print(f'Popularity   : {track[\"popularity\"]}')\n",
    "\n",
    "\n",
    "\n"
   ]
  }
 ],
 "metadata": {
  "kernelspec": {
   "display_name": "Python 3",
   "language": "python",
   "name": "python3"
  },
  "language_info": {
   "codemirror_mode": {
    "name": "ipython",
    "version": 3
   },
   "file_extension": ".py",
   "mimetype": "text/x-python",
   "name": "python",
   "nbconvert_exporter": "python",
   "pygments_lexer": "ipython3",
   "version": "3.11.4"
  },
  "orig_nbformat": 4
 },
 "nbformat": 4,
 "nbformat_minor": 2
}
